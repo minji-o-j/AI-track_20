{
 "cells": [
  {
   "cell_type": "markdown",
   "metadata": {},
   "source": [
    "# 3. 파이토치 기초"
   ]
  },
  {
   "cell_type": "code",
   "execution_count": 2,
   "metadata": {},
   "outputs": [],
   "source": [
    "import torch"
   ]
  },
  {
   "cell_type": "code",
   "execution_count": 6,
   "metadata": {},
   "outputs": [],
   "source": [
    "import numpy as np\n",
    "def print_val(x):\n",
    "    print \"Type: \", type(x)\n",
    "    print \"Shape:\" , x.shape\n",
    "    print \"값: \\n\", x\n",
    "    print \" \""
   ]
  },
  {
   "cell_type": "code",
   "execution_count": 7,
   "metadata": {},
   "outputs": [
    {
     "name": "stdout",
     "output_type": "stream",
     "text": [
      "Type:  <class 'torch.Tensor'>\n",
      "Shape: torch.Size([2, 3, 2])\n",
      "값: \n",
      "tensor([[[0.9215, 0.1246],\n",
      "         [0.6482, 0.1300],\n",
      "         [0.9944, 0.1800]],\n",
      "\n",
      "        [[0.9922, 0.9542],\n",
      "         [0.3257, 0.9698],\n",
      "         [0.9674, 0.7312]]])\n",
      " \n",
      "Type:  <class 'torch.Tensor'>\n",
      "Shape: torch.Size([2, 3])\n",
      "값: \n",
      "tensor([[ 0.4724,  0.5023,  1.2266],\n",
      "        [ 3.1838,  0.3897, -0.7361]])\n",
      " \n"
     ]
    }
   ],
   "source": [
    "x=torch.rand(2,3,2)  # uniform: 0~1사이 모든 값들이 나올 확률이 같다.\n",
    "print_val(x)\n",
    "\n",
    "x=torch.randn(2,3)  # Gaussian: 0을 평균으로 하는 가우시안 분포를 따르는 랜덤값\n",
    "print_val(x)"
   ]
  },
  {
   "cell_type": "code",
   "execution_count": 8,
   "metadata": {},
   "outputs": [
    {
     "name": "stdout",
     "output_type": "stream",
     "text": [
      "Type:  <class 'torch.Tensor'>\n",
      "Shape: torch.Size([4])\n",
      "값: \n",
      "tensor([1, 2, 0, 3])\n",
      " \n"
     ]
    }
   ],
   "source": [
    "x=torch.randperm(4)  # 0 ~ n-1까지 값을 원소로 갖는 배열->랜덤 배열\n",
    "##여기서는 0~3이 랜덤하게 들어간다.\n",
    "print_val(x)"
   ]
  },
  {
   "cell_type": "code",
   "execution_count": 10,
   "metadata": {},
   "outputs": [
    {
     "name": "stdout",
     "output_type": "stream",
     "text": [
      "Type:  <class 'torch.Tensor'>\n",
      "Shape: torch.Size([6])\n",
      "값: \n",
      "tensor([0.0000, 0.5000, 1.0000, 1.5000, 2.0000, 2.5000])\n",
      " \n"
     ]
    }
   ],
   "source": [
    "# [start, end] 구간을 step 단위로 나누어서 배열로 생성\n",
    "x=torch.arange(0,3,step=0.5)  #0부터, 3까지, 0.5 단위로 나눈다. 0이상 3미만\n",
    "print_val(x)"
   ]
  },
  {
   "cell_type": "code",
   "execution_count": 12,
   "metadata": {},
   "outputs": [
    {
     "name": "stdout",
     "output_type": "stream",
     "text": [
      "Type:  <class 'torch.Tensor'>\n",
      "Shape: torch.Size([3, 4])\n",
      "값: \n",
      "tensor([[1., 1., 1., 1.],\n",
      "        [1., 1., 1., 1.],\n",
      "        [1., 1., 1., 1.]])\n",
      " \n",
      "Type:  <class 'torch.Tensor'>\n",
      "Shape: torch.Size([3, 4])\n",
      "값: \n",
      "tensor([[0., 0., 0., 0.],\n",
      "        [0., 0., 0., 0.],\n",
      "        [0., 0., 0., 0.]])\n",
      " \n"
     ]
    }
   ],
   "source": [
    "print_val(torch.ones(3,4))   #(3,4) 배열, 1로 채운다\n",
    "print_val(torch.zeros(3,4))  #(3,4) 배열, 0으로 채운다"
   ]
  },
  {
   "cell_type": "code",
   "execution_count": 18,
   "metadata": {},
   "outputs": [
    {
     "name": "stdout",
     "output_type": "stream",
     "text": [
      "Type:  <class 'torch.Tensor'>\n",
      "Shape: torch.Size([2, 4])\n",
      "값: \n",
      "tensor([[3.6029e+15, 4.5785e-41, 6.9810e+14, 4.5785e-41],\n",
      "        [1.4566e+21, 4.5785e-41, 9.5129e+26, 4.5785e-41]])\n",
      " \n",
      "Type:  <class 'torch.Tensor'>\n",
      "Shape: torch.Size([2])\n",
      "값: \n",
      "tensor([2., 3.])\n",
      " \n",
      "Type:  <class 'torch.Tensor'>\n",
      "Shape: torch.Size([2, 2])\n",
      "값: \n",
      "tensor([[2., 3.],\n",
      "        [3., 4.]])\n",
      " \n"
     ]
    }
   ],
   "source": [
    "print_val(torch.Tensor(2,4))  #(2,4) 배열, 적당한 쓰레기 값으로 채운다\n",
    "\n",
    "print_val(torch.Tensor([2,3]))  #[] 이용하여 차원 늘리기\n",
    "print_val(torch.Tensor([[2,3],[3,4]]))"
   ]
  },
  {
   "cell_type": "code",
   "execution_count": 19,
   "metadata": {},
   "outputs": [
    {
     "name": "stdout",
     "output_type": "stream",
     "text": [
      "Type:  <class 'torch.Tensor'>\n",
      "Shape: torch.Size([2, 3])\n",
      "값: \n",
      "tensor([[1.6202e+15, 4.5785e-41, 1.6202e+15],\n",
      "        [4.5785e-41, 1.6202e+15, 4.5785e-41]])\n",
      " \n",
      "Type:  <class 'torch.Tensor'>\n",
      "Shape: torch.Size([2, 3])\n",
      "값: \n",
      "tensor([[-2147483648,           0, -2147483648],\n",
      "        [          0, -2147483648,           0]], dtype=torch.int32)\n",
      " \n"
     ]
    }
   ],
   "source": [
    "#텐서 타입 변환하기\n",
    "x=torch.FloatTensor(2,3) #float로 바꾸기(좀 더 복잡한 값)\n",
    "print_val(x)\n",
    "\n",
    "x=x.type_as(torch.IntTensor()) #다시 int tensor로 바꾸기\n",
    "print_val(x)"
   ]
  },
  {
   "cell_type": "code",
   "execution_count": 23,
   "metadata": {},
   "outputs": [
    {
     "data": {
      "text/plain": [
       "torch.Size([3, 4, 5])"
      ]
     },
     "execution_count": 23,
     "metadata": {},
     "output_type": "execute_result"
    }
   ],
   "source": [
    "# 텐서 크기 반환\n",
    "torch.FloatTensor(3,4,5).size() ##shape랑 비슷함"
   ]
  },
  {
   "cell_type": "code",
   "execution_count": 25,
   "metadata": {},
   "outputs": [
    {
     "name": "stdout",
     "output_type": "stream",
     "text": [
      "Type:  <type 'numpy.ndarray'>\n",
      "Shape: (2, 3)\n",
      "값: \n",
      "[[140331268741240 140331268741240 140329099739232]\n",
      " [140331078015496 140331067947264  94576671592816]]\n",
      " \n",
      "Type:  <class 'torch.Tensor'>\n",
      "Shape: torch.Size([2, 3])\n",
      "값: \n",
      "tensor([[140331268741240, 140331268741240, 140329099739232],\n",
      "        [140331078015496, 140331067947264,  94576671592816]])\n",
      " \n"
     ]
    }
   ],
   "source": [
    "#numpy array -> torch tensor\n",
    "import numpy as np\n",
    "np_x=np.ndarray((2,3),dtype=int) ## (2,3)shape 갖도록 배열 선언, int \n",
    "print_val(np_x)\n",
    "\n",
    "x=torch.from_numpy(np_x) ##numpy array를 torch tensor로 바꿈\n",
    "print_val(x) ##값은 바뀌지 않지만 데이터의 타입이 바뀜, GPU 올라가기 위해서 필요!!"
   ]
  },
  {
   "cell_type": "code",
   "execution_count": null,
   "metadata": {},
   "outputs": [],
   "source": []
  }
 ],
 "metadata": {
  "kernelspec": {
   "display_name": "conda_pytorch_p27",
   "language": "python",
   "name": "conda_pytorch_p27"
  },
  "language_info": {
   "codemirror_mode": {
    "name": "ipython",
    "version": 2
   },
   "file_extension": ".py",
   "mimetype": "text/x-python",
   "name": "python",
   "nbconvert_exporter": "python",
   "pygments_lexer": "ipython2",
   "version": "2.7.15"
  }
 },
 "nbformat": 4,
 "nbformat_minor": 4
}
