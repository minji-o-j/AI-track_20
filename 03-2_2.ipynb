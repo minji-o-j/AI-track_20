{
 "cells": [
  {
   "cell_type": "markdown",
   "metadata": {},
   "source": [
    "# 4. MNIST 데이터로드"
   ]
  },
  {
   "cell_type": "code",
   "execution_count": 4,
   "metadata": {},
   "outputs": [],
   "source": [
    "import torch"
   ]
  },
  {
   "cell_type": "code",
   "execution_count": 21,
   "metadata": {},
   "outputs": [],
   "source": [
    "import torchvision.datasets as dset\n",
    "import torchvision.transforms as transforms\n",
    "%matplotlib inline\n",
    "from torch.utils.data import DataLoader\n",
    "from torch.autograd import Variable\n",
    "#from torch.utils.data import Variable\n",
    "import matplotlib.pyplot as plt"
   ]
  },
  {
   "cell_type": "markdown",
   "metadata": {},
   "source": [
    "###  1. MNIST 로드"
   ]
  },
  {
   "cell_type": "code",
   "execution_count": 7,
   "metadata": {},
   "outputs": [
    {
     "name": "stderr",
     "output_type": "stream",
     "text": [
      "6.0%"
     ]
    },
    {
     "name": "stdout",
     "output_type": "stream",
     "text": [
      "Downloading http://yann.lecun.com/exdb/mnist/train-images-idx3-ubyte.gz to MNIST/raw/train-images-idx3-ubyte.gz\n"
     ]
    },
    {
     "name": "stderr",
     "output_type": "stream",
     "text": [
      "100.1%"
     ]
    },
    {
     "name": "stdout",
     "output_type": "stream",
     "text": [
      "Extracting MNIST/raw/train-images-idx3-ubyte.gz to MNIST/raw\n"
     ]
    },
    {
     "name": "stderr",
     "output_type": "stream",
     "text": [
      "16.4%%"
     ]
    },
    {
     "name": "stdout",
     "output_type": "stream",
     "text": [
      "Downloading http://yann.lecun.com/exdb/mnist/train-labels-idx1-ubyte.gz to MNIST/raw/train-labels-idx1-ubyte.gz\n",
      "Extracting MNIST/raw/train-labels-idx1-ubyte.gz to MNIST/raw\n",
      "Downloading http://yann.lecun.com/exdb/mnist/t10k-images-idx3-ubyte.gz to MNIST/raw/t10k-images-idx3-ubyte.gz\n"
     ]
    },
    {
     "name": "stderr",
     "output_type": "stream",
     "text": [
      "180.4%"
     ]
    },
    {
     "name": "stdout",
     "output_type": "stream",
     "text": [
      "Extracting MNIST/raw/t10k-images-idx3-ubyte.gz to MNIST/raw\n",
      "Downloading http://yann.lecun.com/exdb/mnist/t10k-labels-idx1-ubyte.gz to MNIST/raw/t10k-labels-idx1-ubyte.gz\n",
      "Extracting MNIST/raw/t10k-labels-idx1-ubyte.gz to MNIST/raw\n",
      "Processing...\n",
      "Done!\n"
     ]
    }
   ],
   "source": [
    "mnist_train=dset.MNIST(\"\", train=True, transform=transforms.ToTensor(), #train 용으로 쓰겠다\n",
    "                      target_transform=None, download=True)"
   ]
  },
  {
   "cell_type": "markdown",
   "metadata": {},
   "source": [
    "### 2. 그려보기"
   ]
  },
  {
   "cell_type": "code",
   "execution_count": 13,
   "metadata": {},
   "outputs": [
    {
     "name": "stdout",
     "output_type": "stream",
     "text": [
      "torch.Size([1, 28, 28]) 5\n",
      "torch.Size([1, 28, 28]) 0\n",
      "60000\n",
      "mnist_train 길이:  60000\n",
      "5\n",
      "<built-in method size of Tensor object at 0x7f7bfa2cbe60>\n"
     ]
    },
    {
     "data": {
      "image/png": "[encoded data removed]",
      "text/plain": [
       "<Figure size 432x288 with 1 Axes>"
      ]
     },
     "metadata": {},
     "output_type": "display_data"
    },
    {
     "data": {
      "image/png": "[encoded data removed]",
      "text/plain": [
       "<Figure size 432x288 with 1 Axes>"
      ]
     },
     "metadata": {},
     "output_type": "display_data"
    },
    {
     "data": {
      "image/png": "[encoded data removed]",
      "text/plain": [
       "<Figure size 432x288 with 1 Axes>"
      ]
     },
     "metadata": {},
     "output_type": "display_data"
    }
   ],
   "source": [
    "# MNIST data 하나 형태 출력\n",
    "image, label=mnist_train.__getitem__(0)\n",
    "print image.size(), label\n",
    "\n",
    "image, label=mnist_train[1] #리턴값 2개가 가능하다, 0번째 데이터의 이미지 사이즈와 레이블이 몇번인지?\n",
    "print image.size(), label\n",
    "\n",
    "print mnist_train.__len__() ##전체 데이터 개수의 길이, 60000장, 아래줄이랑 같은 문법임\n",
    "print \"mnist_train 길이: \", len(mnist_train)\n",
    "\n",
    "#그리기\n",
    "print mnist_train[0][1] #label\n",
    "print mnist_train[0][0].size #image ##[0][0]에는 이미지, [0][1]에는 label이\n",
    "\n",
    "for i in range(3):\n",
    "    img=mnist_train[i][0].numpy() #image 타입을 numpy로 변환(1, 28,28)\n",
    "    #print(\"label:\" %d\", mnist_train[i][1])\n",
    "    plt.title(\"label: %d\" %mnist_train[i][1])\n",
    "    plt.imshow(img[0],cmap='gray')\n",
    "    plt.show()"
   ]
  },
  {
   "cell_type": "markdown",
   "metadata": {},
   "source": [
    "### 1) MNIST train, test dataset 가져오기"
   ]
  },
  {
   "cell_type": "code",
   "execution_count": 16,
   "metadata": {},
   "outputs": [],
   "source": [
    "# \"\": 현재 폴더에 MNIST 있음\n",
    "mnist_train=dset.MNIST(\"\",train=True,transform=transforms.ToTensor(), #train용으로 쓰겠다\n",
    "                      target_transform=None, download=True)\n",
    "mnist_test=dset.MNIST(\"\",train=False,transform=transforms.ToTensor(), #test용으로 쓰겠다\n",
    "                      target_transform=None, download=True)"
   ]
  },
  {
   "cell_type": "markdown",
   "metadata": {},
   "source": [
    "### 2) 대략적인 데이터 형태"
   ]
  },
  {
   "cell_type": "code",
   "execution_count": 17,
   "metadata": {},
   "outputs": [
    {
     "name": "stdout",
     "output_type": "stream",
     "text": [
      "mnist_train 길이: 60000\n",
      "minst_test 길이: 10000\n",
      "image data 형태:  torch.Size([1, 28, 28])\n",
      "label:  5\n"
     ]
    },
    {
     "data": {
      "image/png": "[encoded data removed]",
      "text/plain": [
       "<Figure size 432x288 with 1 Axes>"
      ]
     },
     "metadata": {},
     "output_type": "display_data"
    }
   ],
   "source": [
    "print \"mnist_train 길이:\", len(mnist_train)\n",
    "print \"minst_test 길이:\", len(mnist_test)\n",
    "\n",
    "#데이터 하나 형태\n",
    "image,label=mnist_train.__getitem__(0) #0번째 데이터\n",
    "print \"image data 형태: \",image.size()\n",
    "print \"label: \", label  #0부터 9까지\n",
    "\n",
    "#그리기\n",
    "Img=image.numpy() #image 타입을 numpy로 변환(1, 28,28)\n",
    "plt.title(\"label: %d\" %label)\n",
    "plt.imshow(img[0],cmap='gray')\n",
    "plt.show()"
   ]
  },
  {
   "cell_type": "markdown",
   "metadata": {},
   "source": [
    "### 3) 데이터 로드함수"
   ]
  },
  {
   "cell_type": "code",
   "execution_count": 19,
   "metadata": {},
   "outputs": [],
   "source": [
    "#학습 시킬 때 batch_size로 끊어서 로드하기 위함\n",
    "batch_size=16\n",
    "train_loader=torch.utils.data.DataLoader(list(mnist_train)[:batch_size*100],batch_size=batch_size,\n",
    "                                        #mnist_train을 트레인 시키자\n",
    "                                        shuffle=True, num_workers=2,\n",
    "                                        drop_last=True) #batch_size만큼 나눌 때 나머지는 버려라\n",
    "test_loader=torch.utils.data.DataLoader((mnist_test),batch_size=batch_size,\n",
    "                                        shuffle=False, num_workers=2,\n",
    "                                        drop_last=True)\n",
    "\n",
    "##mini batch단위로 끊어서 학습을 시킨다. ->DataLoader 함수 사용\n",
    "##batch_size:얼마나 단위로 끊을건가?(우리는 16)\n",
    "##데이터 뭉침을 위해 shuffle 사용(data loader에 있음), 보통 train은 true, test는 false로 해준다."
   ]
  },
  {
   "cell_type": "markdown",
   "metadata": {},
   "source": [
    "### 4) 데이터 로드함수 이해하기"
   ]
  },
  {
   "cell_type": "code",
   "execution_count": 23,
   "metadata": {},
   "outputs": [
    {
     "name": "stdout",
     "output_type": "stream",
     "text": [
      "[0]\n",
      "한 번에 로드되는 데이터 크기 16\n",
      "torch.Size([16, 28, 28])\n",
      "torch.Size([16])\n"
     ]
    },
    {
     "data": {
      "image/png": "[encoded data removed]",
      "text/plain": [
       "<Figure size 432x288 with 3 Axes>"
      ]
     },
     "metadata": {},
     "output_type": "display_data"
    },
    {
     "name": "stdout",
     "output_type": "stream",
     "text": [
      "[1]\n",
      "한 번에 로드되는 데이터 크기 16\n",
      "torch.Size([16, 28, 28])\n",
      "torch.Size([16])\n"
     ]
    },
    {
     "data": {
      "image/png": "[encoded data removed]",
      "text/plain": [
       "<Figure size 432x288 with 3 Axes>"
      ]
     },
     "metadata": {},
     "output_type": "display_data"
    },
    {
     "name": "stdout",
     "output_type": "stream",
     "text": [
      "[2]\n",
      "한 번에 로드되는 데이터 크기 16\n",
      "torch.Size([16, 28, 28])\n",
      "torch.Size([16])\n"
     ]
    },
    {
     "data": {
      "image/png": "[encoded data removed]",
      "text/plain": [
       "<Figure size 432x288 with 3 Axes>"
      ]
     },
     "metadata": {},
     "output_type": "display_data"
    },
    {
     "name": "stdout",
     "output_type": "stream",
     "text": [
      "[3]\n",
      "한 번에 로드되는 데이터 크기 16\n",
      "torch.Size([16, 28, 28])\n",
      "torch.Size([16])\n"
     ]
    },
    {
     "data": {
      "image/png": "[encoded data removed]",
      "text/plain": [
       "<Figure size 432x288 with 3 Axes>"
      ]
     },
     "metadata": {},
     "output_type": "display_data"
    },
    {
     "name": "stdout",
     "output_type": "stream",
     "text": [
      "[4]\n",
      "한 번에 로드되는 데이터 크기 16\n",
      "torch.Size([16, 28, 28])\n",
      "torch.Size([16])\n"
     ]
    },
    {
     "data": {
      "image/png": "[encoded data removed]",
      "text/plain": [
       "<Figure size 432x288 with 3 Axes>"
      ]
     },
     "metadata": {},
     "output_type": "display_data"
    },
    {
     "name": "stdout",
     "output_type": "stream",
     "text": [
      "[5]\n",
      "한 번에 로드되는 데이터 크기 16\n",
      "torch.Size([16, 28, 28])\n",
      "torch.Size([16])\n"
     ]
    },
    {
     "data": {
      "image/png": "[encoded data removed]",
      "text/plain": [
       "<Figure size 432x288 with 3 Axes>"
      ]
     },
     "metadata": {},
     "output_type": "display_data"
    }
   ],
   "source": [
    "n=3 ## 샘플로 그려볼 데이터의 개수\n",
    "for i, [imgs,labels] in enumerate(test_loader): ##batch_size 만큼, imgs lables인 이유는 for문 돌때마자 가지고 온다.\n",
    "    if i>5:\n",
    "        break\n",
    "    \n",
    "    print \"[%d]\" %i\n",
    "    print \"한 번에 로드되는 데이터 크기\", len(imgs) #batch size가 16이라서 16임\n",
    "    \n",
    "    #GPU에 로드되기 위함, 만약 CPU로 설정되어 있으면 자동으로 CPU로 로드됨<신경X\n",
    "    \n",
    "    x=Variable(imgs)#.cuda()   #(batch_size, 1, 28, 28) ##Variable은 GPU 가속 받는 옵션에서 씌워줘야한다.\n",
    "   # 1이 필요가 없어서 없애줌\n",
    "    x=x.reshape((x.shape[0],x.shape[2],x.shape[3])) #(batch_size, 1, 28,28)->(batch_size,28,28)\n",
    "    y_=Variable(labels)#.cuda() #(batch_size)\n",
    "    \n",
    "    print x.shape\n",
    "    print y_.shape\n",
    "    \n",
    "    #그리기\n",
    "    for j in range(n): #임의로 3으로 설정했으므로 3개 그림이 나온다.\n",
    "        img=imgs[j].numpy() #image 타입을 numpy로 변환 Variable은 tensor이므로 numpy로 바꿔줘야함. 원래 학습 시킬땐 그리면서 하지 않는다., (1,28,28)\n",
    "        img=img.reshape((img.shape[1],img.shape[2]))  #(1,28,28)->(28,28)\n",
    "        #print img.shape\n",
    "        \n",
    "        plt.subplot(1, n, j+1) #(1,3)형태 플릿의 j번째 자리에 그리겠다\n",
    "        plt.imshow(img,cmap='gray')\n",
    "        plt.title(\"label: %d\" %labels[j])\n",
    "    plt.show()\n",
    "        "
   ]
  },
  {
   "cell_type": "code",
   "execution_count": null,
   "metadata": {},
   "outputs": [],
   "source": []
  }
 ],
 "metadata": {
  "kernelspec": {
   "display_name": "conda_pytorch_p27",
   "language": "python",
   "name": "conda_pytorch_p27"
  },
  "language_info": {
   "codemirror_mode": {
    "name": "ipython",
    "version": 2
   },
   "file_extension": ".py",
   "mimetype": "text/x-python",
   "name": "python",
   "nbconvert_exporter": "python",
   "pygments_lexer": "ipython2",
   "version": "2.7.15"
  }
 },
 "nbformat": 4,
 "nbformat_minor": 4
}
