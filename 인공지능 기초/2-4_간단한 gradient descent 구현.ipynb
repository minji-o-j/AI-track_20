{
 "cells": [
  {
   "cell_type": "markdown",
   "metadata": {},
   "source": [
    "## import"
   ]
  },
  {
   "cell_type": "code",
   "execution_count": 3,
   "metadata": {},
   "outputs": [],
   "source": [
    "import matplotlib.pyplot as plt\n",
    "import numpy as np"
   ]
  },
  {
   "cell_type": "markdown",
   "metadata": {},
   "source": [
    "## 함수 정의: y=(x-5)^2-20"
   ]
  },
  {
   "cell_type": "code",
   "execution_count": 4,
   "metadata": {},
   "outputs": [],
   "source": [
    "def f(x):\n",
    "    return np.power(x-5,2)-20"
   ]
  },
  {
   "cell_type": "markdown",
   "metadata": {},
   "source": [
    "## 함수 미분: y'=2(x-5)"
   ]
  },
  {
   "cell_type": "code",
   "execution_count": 5,
   "metadata": {},
   "outputs": [],
   "source": [
    "def f_derivative (x):\n",
    "    return 2*(x-5)"
   ]
  },
  {
   "cell_type": "markdown",
   "metadata": {},
   "source": [
    "## gradient descent 함수 정의"
   ]
  },
  {
   "cell_type": "code",
   "execution_count": 6,
   "metadata": {},
   "outputs": [],
   "source": [
    "def gradient_descent (x_curr, alpha, precision, max_iteration):\n",
    "    list_step=[]\n",
    "    \n",
    "    for i in range(max_iteration):\n",
    "        x_next=x_curr-alpha*f_derivative(x_curr) ##핵심\n",
    "        \n",
    "        step=x_next-x_curr  ## 실제로 얼마나 차이가 있는지 확인\n",
    "        list_step.append(abs(step))  ##abs: 절댓값 함수\n",
    "        \n",
    "        if(i%50==0): ##50번마다 1번씩 결과 출력\n",
    "            print(i,x_next)\n",
    "            \n",
    "        if(abs(step)<=precision):  ## 사전에 정해놓은 정확도보다 작아지면\n",
    "            break\n",
    "            \n",
    "        x_curr=x_next\n",
    "        \n",
    "    print(\"min at x = {}\",x_next)\n",
    "    \n",
    "    figure, ax= plt.subplots(1,1)\n",
    "    \n",
    "    ax.title.set_text('step_size')\n",
    "    ax.plot(list_step)\n",
    "    ax.set_ylabel('step size')\n",
    "    ax.set_xlabel('iteration number')\n",
    "    \n",
    "    plt.show()"
   ]
  },
  {
   "cell_type": "markdown",
   "metadata": {},
   "source": [
    "## gradient 실행: x=10에서 시작    "
   ]
  },
  {
   "cell_type": "code",
   "execution_count": 7,
   "metadata": {},
   "outputs": [
    {
     "name": "stdout",
     "output_type": "stream",
     "text": [
      "(0, 9.9)\n",
      "(50, 6.784431432426873)\n",
      "(100, 5.649835823884292)\n",
      "(150, 5.23665050409309)\n",
      "(200, 5.086180938368036)\n",
      "(250, 5.031384484755096)\n",
      "(300, 5.011429277772964)\n",
      "(350, 5.004162196430206)\n",
      "(400, 5.001515745742449)\n",
      "(450, 5.00055198864212)\n",
      "(500, 5.000201017527212)\n",
      "(550, 5.000073204488577)\n",
      "('min at x = {}', 5.000048871900143)\n"
     ]
    },
    {
     "data": {
      "image/png": "[encoded data removed]",
      "text/plain": [
       "<Figure size 432x288 with 1 Axes>"
      ]
     },
     "metadata": {},
     "output_type": "display_data"
    }
   ],
   "source": [
    "gradient_descent(x_curr=10, alpha=0.01, precision=0.000001, max_iteration=1000)"
   ]
  },
  {
   "cell_type": "markdown",
   "metadata": {},
   "source": [
    "## gradient 실행: x=-10에서 시작"
   ]
  },
  {
   "cell_type": "code",
   "execution_count": 8,
   "metadata": {},
   "outputs": [
    {
     "name": "stdout",
     "output_type": "stream",
     "text": [
      "(0, -9.7)\n",
      "(50, -0.3532942972806213)\n",
      "(100, 3.0504925283471285)\n",
      "(150, 4.290048487720728)\n",
      "(200, 4.741457184895891)\n",
      "(250, 4.905846545734713)\n",
      "(300, 4.965712166681111)\n",
      "(350, 4.98751341070938)\n",
      "(400, 4.995452762772658)\n",
      "(450, 4.99834403407364)\n",
      "(500, 4.9993969474183615)\n",
      "(550, 4.999780386534271)\n",
      "(600, 4.999920023434442)\n",
      "('min at x = {}', 4.999951736963476)\n"
     ]
    },
    {
     "data": {
      "image/png": "[encoded data removed]",
      "text/plain": [
       "<Figure size 432x288 with 1 Axes>"
      ]
     },
     "metadata": {},
     "output_type": "display_data"
    }
   ],
   "source": [
    "gradient_descent(x_curr=-10, alpha=0.01, precision=0.000001, max_iteration=1000)"
   ]
  },
  {
   "cell_type": "code",
   "execution_count": null,
   "metadata": {},
   "outputs": [],
   "source": []
  }
 ],
 "metadata": {
  "kernelspec": {
   "display_name": "conda_pytorch_p27",
   "language": "python",
   "name": "conda_pytorch_p27"
  },
  "language_info": {
   "codemirror_mode": {
    "name": "ipython",
    "version": 2
   },
   "file_extension": ".py",
   "mimetype": "text/x-python",
   "name": "python",
   "nbconvert_exporter": "python",
   "pygments_lexer": "ipython2",
   "version": "2.7.15"
  }
 },
 "nbformat": 4,
 "nbformat_minor": 4
}
